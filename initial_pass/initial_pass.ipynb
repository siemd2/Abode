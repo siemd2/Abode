{
 "cells": [
  {
   "cell_type": "code",
   "execution_count": 1,
   "metadata": {},
   "outputs": [],
   "source": [
    "import pandas as pd\n",
    "import numpy as np\n",
    "import random\n",
    "\n",
    "\n",
    "house_data = pd.read_csv('Final_Updated_Housing.csv')\n",
    "\n",
    "# Random input\n",
    "inputs = np.array([500000, 2000, 3, 4, 2, 1, 0, 1, 1, 0, 2, 0, 0.5])\n",
    "inputs2 = [500000, 2000, 3, 4, 2, 1, 0, 1, 1, 0, 2, 0, 0.5]\n",
    "\n",
    "headers = ['price','area','bedrooms','bathrooms','stories','mainroad',\n",
    "           'guestroom','basement','hotwaterheating','airconditioning',\n",
    "           'parking','prefarea','furnishingstatus','fake_address',\n",
    "           'fake_zip_code'\n",
    "]"
   ]
  },
  {
   "cell_type": "code",
   "execution_count": null,
   "metadata": {},
   "outputs": [],
   "source": [
    "# Cleaned data by getting rid of houses in the dataset that we are obviously not\n",
    "# interested in\n",
    "for i in range(len(inputs)):\n",
    "    if inputs[i] == 0:\n",
    "        clean_data = np.array(house_data[house_data[headers[i]]>0])"
   ]
  },
  {
   "cell_type": "code",
   "execution_count": null,
   "metadata": {},
   "outputs": [],
   "source": [
    "# Deletes columns in the clean_data array that have zeroes in them\n",
    "for i in range(len(inputs)):\n",
    "    if inputs[i] == 0:\n",
    "        zero_cols = np.any(clean_data == 0, axis=0)\n",
    "        euclidean_data = clean_data[:, ~zero_cols]\n",
    "        inputs2.remove(inputs[i])"
   ]
  },
  {
   "cell_type": "code",
   "execution_count": null,
   "metadata": {},
   "outputs": [],
   "source": [
    "# Slicing out the last two columns of the clean_data\n",
    "sliced_euclidean = euclidean_data[:, :-2]\n",
    "print(sliced_euclidean)\n",
    "print(inputs2)"
   ]
  },
  {
   "cell_type": "code",
   "execution_count": null,
   "metadata": {},
   "outputs": [],
   "source": [
    "# Slicing the euclidean_data so that we get rid of the postal codes and addresses\n",
    "# sliced_euclidean = euclidean_data[:, :6]\n",
    "# print(inputs2)\n",
    "# print(sliced_euclidean[0])\n",
    "\n",
    "# Also cleaning the inputs array\n",
    "\n",
    "\n",
    "# euclidean_distance to calculate how far away we are from our target house\n",
    "# def euclidean_distance(point1, point2):\n",
    "#     point1 = point1\n",
    "#     point2 = point2\n",
    "#     return np.linalg.norm(point1 - point2)\n",
    "\n",
    "# for i in range(sliced_euclidean.shape[0]):\n",
    "#     distance = euclidean_distance()"
   ]
  }
 ],
 "metadata": {
  "kernelspec": {
   "display_name": "alg",
   "language": "python",
   "name": "python3"
  },
  "language_info": {
   "codemirror_mode": {
    "name": "ipython",
    "version": 3
   },
   "file_extension": ".py",
   "mimetype": "text/x-python",
   "name": "python",
   "nbconvert_exporter": "python",
   "pygments_lexer": "ipython3",
   "version": "3.11.5"
  }
 },
 "nbformat": 4,
 "nbformat_minor": 2
}
